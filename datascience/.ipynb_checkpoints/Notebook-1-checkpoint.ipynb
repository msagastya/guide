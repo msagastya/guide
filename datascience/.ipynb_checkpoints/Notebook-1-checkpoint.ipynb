{
 "cells": [
  {
   "cell_type": "markdown",
   "metadata": {
    "id": "HN-rH0Nu8rZY"
   },
   "source": [
    "# Unlocking the Power of Numerical Computing"
   ]
  },
  {
   "cell_type": "markdown",
   "metadata": {
    "id": "rQGsAgmZYsj3"
   },
   "source": [
    "## Advantage of using Numpy over traditional Python lists"
   ]
  },
  {
   "cell_type": "code",
   "execution_count": 1,
   "metadata": {
    "id": "KlaI3Gyj5vqV"
   },
   "outputs": [],
   "source": [
    "import numpy as np\n",
    "import time as tm\n",
    "from numpy.random import default_rng"
   ]
  },
  {
   "cell_type": "code",
   "execution_count": 7,
   "metadata": {
    "id": "6x1YzZOC4Pro"
   },
   "outputs": [
    {
     "name": "stdout",
     "output_type": "stream",
     "text": [
      "Time taken to operate using traditional python lists =  0.22731471061706543  seconds\n",
      "Time Taken to operate using numpy array=  0.031324148178100586  seconds\n"
     ]
    }
   ],
   "source": [
    "size = 1000000\n",
    "\n",
    "#Python List\n",
    "list1 = range(size)\n",
    "list2 = range(size)\n",
    "\n",
    "#Numpy Array\n",
    "array1 = np.arange(size)\n",
    "array2 = np.arange(size)\n",
    "\n",
    "#Time taken to operate using traditional python list\n",
    "init_time = tm.time()\n",
    "\n",
    "res = [a*b for a, b in zip(list1, list2)] #List Comprehension\n",
    "\n",
    "print(\"Time taken to operate using traditional python lists = \", tm.time()-init_time, \" seconds\")\n",
    "\n",
    "\n",
    "#Time taken to operate using numpy array\n",
    "init_time =  tm.time()\n",
    "res = array1*array2 #Broadcasting\n",
    "\n",
    "print(\"Time Taken to operate using numpy array= \", tm.time()-init_time,\" seconds\")"
   ]
  },
  {
   "cell_type": "markdown",
   "metadata": {
    "id": "3V48C1pC4K5r"
   },
   "source": [
    "# Section 1: Basics\n"
   ]
  },
  {
   "cell_type": "markdown",
   "metadata": {
    "id": "cDPPPUWqxrUI"
   },
   "source": [
    "## Creating Numpy Arrays"
   ]
  },
  {
   "cell_type": "code",
   "execution_count": 8,
   "metadata": {
    "id": "EBQ4ZCaixdoM"
   },
   "outputs": [
    {
     "data": {
      "text/plain": [
       "array([[1, 2],\n",
       "       [3, 4]])"
      ]
     },
     "execution_count": 8,
     "metadata": {},
     "output_type": "execute_result"
    }
   ],
   "source": [
    "#Using Python List/tuple/array-like-structure\n",
    "np.array([1,2,3])\n",
    "np.array([[1,2],[3,4]])"
   ]
  },
  {
   "cell_type": "code",
   "execution_count": 9,
   "metadata": {
    "id": "U6bt_p3BKSr8"
   },
   "outputs": [],
   "source": [
    "d3 = [\n",
    "    [[1,2], [3,4]],\n",
    "    [[5,6],[7,8]]\n",
    "]"
   ]
  },
  {
   "cell_type": "code",
   "execution_count": 10,
   "metadata": {
    "id": "U6b0BdJVKn8k"
   },
   "outputs": [
    {
     "data": {
      "text/plain": [
       "array([[[1., 2.],\n",
       "        [3., 4.]],\n",
       "\n",
       "       [[5., 6.],\n",
       "        [7., 8.]]], dtype=float32)"
      ]
     },
     "execution_count": 10,
     "metadata": {},
     "output_type": "execute_result"
    }
   ],
   "source": [
    "np.array(d3, dtype=\"float32\")"
   ]
  },
  {
   "cell_type": "markdown",
   "metadata": {
    "id": "5Savoni1K0bW"
   },
   "source": [
    "### 1D Array\n",
    "```\n",
    "  numpy.arange([start, ]stop, [step, ]dtype=None)\n",
    "  numpy.linspace(start, stop, num=50)\n",
    "```"
   ]
  },
  {
   "cell_type": "markdown",
   "metadata": {
    "id": "P-mB7QnSykxt"
   },
   "source": [
    "### 2D array\n",
    "```\n",
    "numpy.eye(N, M=None, k=0, dtype=<class 'float'>)\n",
    "numpy.diag(v, k=0)\n",
    "```"
   ]
  },
  {
   "cell_type": "markdown",
   "metadata": {
    "id": "srgCmJQqy8g1"
   },
   "source": [
    "### 3D array\n",
    "```\n",
    "numpy.ones(shape, dtype=None)\n",
    "numpy.zeros(shape, dtype=float)\n",
    "```"
   ]
  },
  {
   "cell_type": "markdown",
   "metadata": {},
   "source": [
    "### array with random values"
   ]
  },
  {
   "cell_type": "code",
   "execution_count": 11,
   "metadata": {
    "id": "h9P00XIi247w"
   },
   "outputs": [],
   "source": [
    "x = default_rng(42).random((2,3))"
   ]
  },
  {
   "cell_type": "code",
   "execution_count": 12,
   "metadata": {},
   "outputs": [
    {
     "data": {
      "text/plain": [
       "array([[0.77395605, 0.43887844, 0.85859792],\n",
       "       [0.69736803, 0.09417735, 0.97562235]])"
      ]
     },
     "execution_count": 12,
     "metadata": {},
     "output_type": "execute_result"
    }
   ],
   "source": [
    "x"
   ]
  },
  {
   "cell_type": "markdown",
   "metadata": {
    "id": "VeQOJzR2c0C4"
   },
   "source": [
    "## Shape of an array"
   ]
  },
  {
   "cell_type": "code",
   "execution_count": 13,
   "metadata": {
    "id": "tXt9RWZSi7FN"
   },
   "outputs": [
    {
     "data": {
      "text/plain": [
       "(2, 3)"
      ]
     },
     "execution_count": 13,
     "metadata": {},
     "output_type": "execute_result"
    }
   ],
   "source": [
    "#Shape of an array\n",
    "x.shape"
   ]
  },
  {
   "cell_type": "code",
   "execution_count": 14,
   "metadata": {
    "id": "DuvS3zXOzoim"
   },
   "outputs": [],
   "source": [
    "#Reshaping\n",
    "x.shape = (6,1)"
   ]
  },
  {
   "cell_type": "markdown",
   "metadata": {
    "id": "-JKsBDH3zQi-"
   },
   "source": [
    "## Indexing, Slicing, Striding"
   ]
  },
  {
   "cell_type": "code",
   "execution_count": 16,
   "metadata": {
    "id": "RK3JkuqAZQB-"
   },
   "outputs": [
    {
     "data": {
      "text/plain": [
       "array([0.43887844])"
      ]
     },
     "execution_count": 16,
     "metadata": {},
     "output_type": "execute_result"
    }
   ],
   "source": [
    "#Indexing\n",
    "x[1]"
   ]
  },
  {
   "cell_type": "code",
   "execution_count": 17,
   "metadata": {
    "id": "VdXINYZ3ZQLR"
   },
   "outputs": [
    {
     "data": {
      "text/plain": [
       "array([[0.43887844],\n",
       "       [0.85859792],\n",
       "       [0.69736803],\n",
       "       [0.09417735]])"
      ]
     },
     "execution_count": 17,
     "metadata": {},
     "output_type": "execute_result"
    }
   ],
   "source": [
    "#Slicing\n",
    "x[1:5]"
   ]
  },
  {
   "cell_type": "code",
   "execution_count": 18,
   "metadata": {
    "id": "gJaa8YytZQip"
   },
   "outputs": [
    {
     "data": {
      "text/plain": [
       "array([[0.43887844],\n",
       "       [0.69736803],\n",
       "       [0.97562235]])"
      ]
     },
     "execution_count": 18,
     "metadata": {},
     "output_type": "execute_result"
    }
   ],
   "source": [
    "#Striding\n",
    "x[1:6:2]"
   ]
  },
  {
   "cell_type": "markdown",
   "metadata": {
    "id": "M2tEXgSC4QGs"
   },
   "source": [
    "# Section 2: Numerical Computation"
   ]
  },
  {
   "cell_type": "markdown",
   "metadata": {
    "id": "nB9j_upBZbaD"
   },
   "source": [
    "## Broadcasting\n",
    "When operating on two arrays, NumPy compares their shapes element-wise. It starts with the trailing (i.e. rightmost) dimension and works its way left. Two dimensions are compatible when\n",
    "\n",
    "* they are equal, or\n",
    "\n",
    "* one of them is 1."
   ]
  },
  {
   "cell_type": "code",
   "execution_count": 19,
   "metadata": {
    "id": "wGEN4b0JX4TJ"
   },
   "outputs": [
    {
     "data": {
      "text/plain": [
       "array([3, 4, 5])"
      ]
     },
     "execution_count": 19,
     "metadata": {},
     "output_type": "execute_result"
    }
   ],
   "source": [
    "#Broadcasting\n",
    "x = np.arange(1,4,1)\n",
    "y = 2\n",
    "x + y"
   ]
  },
  {
   "cell_type": "code",
   "execution_count": 20,
   "metadata": {},
   "outputs": [
    {
     "data": {
      "text/plain": [
       "(3,)"
      ]
     },
     "execution_count": 20,
     "metadata": {},
     "output_type": "execute_result"
    }
   ],
   "source": [
    "x.shape"
   ]
  },
  {
   "cell_type": "code",
   "execution_count": 22,
   "metadata": {
    "id": "FJHKexnK4dz1"
   },
   "outputs": [
    {
     "data": {
      "text/plain": [
       "array([[ 1.,  2.,  3.],\n",
       "       [11., 12., 13.],\n",
       "       [21., 22., 23.],\n",
       "       [31., 32., 33.]])"
      ]
     },
     "execution_count": 22,
     "metadata": {},
     "output_type": "execute_result"
    }
   ],
   "source": [
    "x = np.array([[ 0.0,  0.0,  0.0],\n",
    "              [10.0, 10.0, 10.0],\n",
    "              [20.0, 20.0, 20.0],\n",
    "              [30.0, 30.0, 30.0]])\n",
    "y = np.array([1.0, 2.0, 3.0])\n",
    "x + y"
   ]
  },
  {
   "cell_type": "code",
   "execution_count": 23,
   "metadata": {},
   "outputs": [
    {
     "data": {
      "text/plain": [
       "(4, 3)"
      ]
     },
     "execution_count": 23,
     "metadata": {},
     "output_type": "execute_result"
    }
   ],
   "source": [
    "x.shape"
   ]
  },
  {
   "cell_type": "code",
   "execution_count": 24,
   "metadata": {},
   "outputs": [
    {
     "data": {
      "text/plain": [
       "(3,)"
      ]
     },
     "execution_count": 24,
     "metadata": {},
     "output_type": "execute_result"
    }
   ],
   "source": [
    "y.shape"
   ]
  },
  {
   "cell_type": "code",
   "execution_count": 25,
   "metadata": {
    "id": "m4y5_QU44yLp"
   },
   "outputs": [
    {
     "data": {
      "text/plain": [
       "array([[ 1.,  2.,  3.],\n",
       "       [11., 12., 13.],\n",
       "       [21., 22., 23.],\n",
       "       [31., 32., 33.]])"
      ]
     },
     "execution_count": 25,
     "metadata": {},
     "output_type": "execute_result"
    }
   ],
   "source": [
    "x = np.array([0.0, 10.0, 20.0, 30.0])\n",
    "y = np.array([1.0, 2.0, 3.0])\n",
    "x[:, np.newaxis] + y"
   ]
  },
  {
   "cell_type": "code",
   "execution_count": 26,
   "metadata": {},
   "outputs": [
    {
     "data": {
      "text/plain": [
       "(4,)"
      ]
     },
     "execution_count": 26,
     "metadata": {},
     "output_type": "execute_result"
    }
   ],
   "source": [
    "x.shape"
   ]
  },
  {
   "cell_type": "code",
   "execution_count": 27,
   "metadata": {},
   "outputs": [
    {
     "data": {
      "text/plain": [
       "(3,)"
      ]
     },
     "execution_count": 27,
     "metadata": {},
     "output_type": "execute_result"
    }
   ],
   "source": [
    "y.shape"
   ]
  },
  {
   "cell_type": "code",
   "execution_count": 29,
   "metadata": {},
   "outputs": [
    {
     "data": {
      "text/plain": [
       "(4, 1)"
      ]
     },
     "execution_count": 29,
     "metadata": {},
     "output_type": "execute_result"
    }
   ],
   "source": [
    "x[:, np.newaxis].shape"
   ]
  }
 ],
 "metadata": {
  "colab": {
   "provenance": []
  },
  "kernelspec": {
   "display_name": "Python 3 (ipykernel)",
   "language": "python",
   "name": "python3"
  },
  "language_info": {
   "codemirror_mode": {
    "name": "ipython",
    "version": 3
   },
   "file_extension": ".py",
   "mimetype": "text/x-python",
   "name": "python",
   "nbconvert_exporter": "python",
   "pygments_lexer": "ipython3",
   "version": "3.10.9"
  }
 },
 "nbformat": 4,
 "nbformat_minor": 1
}
